{
 "cells": [
  {
   "cell_type": "code",
   "execution_count": 38,
   "metadata": {},
   "outputs": [],
   "source": [
    "from pyspark.sql import SparkSession\n",
    "from pyspark.ml.feature import VectorAssembler\n",
    "from pyspark.ml.classification import LogisticRegression\n",
    "from pyspark.ml.evaluation import BinaryClassificationEvaluator, MulticlassClassificationEvaluator"
   ]
  },
  {
   "cell_type": "code",
   "execution_count": 39,
   "metadata": {},
   "outputs": [],
   "source": [
    "#pyspark init\n",
    "builder = SparkSession.Builder().appName('creditcard_highAPI')\n",
    "spark = builder.getOrCreate()"
   ]
  },
  {
   "cell_type": "code",
   "execution_count": 40,
   "metadata": {},
   "outputs": [
    {
     "name": "stderr",
     "output_type": "stream",
     "text": [
      "                                                                                \r"
     ]
    }
   ],
   "source": [
    "#Read input file\n",
    "raw_df = spark.read.csv('creditcard.csv', header=True, inferSchema=True)"
   ]
  },
  {
   "cell_type": "markdown",
   "metadata": {},
   "source": [
    "## Preprocessing"
   ]
  },
  {
   "cell_type": "code",
   "execution_count": 41,
   "metadata": {},
   "outputs": [],
   "source": [
    "#Extract features name\n",
    "cols = [col for col in raw_df.columns if col != 'Class']\n",
    "\n",
    "#Use VectorAssembler to transform feature columns into a single vector\n",
    "assembler = VectorAssembler(inputCols=cols, outputCol= 'features')\n",
    "data = assembler.transform(raw_df).select('features', 'Class')"
   ]
  },
  {
   "cell_type": "code",
   "execution_count": 42,
   "metadata": {},
   "outputs": [],
   "source": [
    "#Split data into training and testing sets\n",
    "\n",
    "###training set proportion parameter:\n",
    "train_size = 0.7\n",
    "###\n",
    "\n",
    "train, test = data.randomSplit([train_size, 1 - train_size], seed=24) #Fixed with seed for reproductivity"
   ]
  },
  {
   "cell_type": "markdown",
   "metadata": {},
   "source": [
    "## Fit the model"
   ]
  },
  {
   "cell_type": "code",
   "execution_count": 43,
   "metadata": {},
   "outputs": [
    {
     "name": "stderr",
     "output_type": "stream",
     "text": [
      "                                                                                \r"
     ]
    }
   ],
   "source": [
    "classifier = LogisticRegression(featuresCol= 'features', labelCol= 'Class')\n",
    "model = classifier.fit(train)"
   ]
  },
  {
   "cell_type": "code",
   "execution_count": 44,
   "metadata": {},
   "outputs": [
    {
     "name": "stdout",
     "output_type": "stream",
     "text": [
      "Coefficients:  [-1.4205842552948074e-06,0.06448671102025771,0.07343322668750614,-0.018577980628522246,0.7664195873034164,0.18968501658537054,-0.14423536452744626,-0.05080773689778858,-0.1531071872669441,-0.2145123404076433,-0.8965157118511374,-0.09796312071675183,0.14389493400055703,-0.43606232896089364,-0.4819243168315607,-0.050624993435994775,-0.23137287549235477,-0.011095142200674944,-0.02333055472085141,0.015229224764578385,-0.5039467472247684,0.3997853455514391,0.6247652360674825,-0.07474196829812284,0.18621389095132587,-0.09849214283232235,-0.0445375136385123,-0.86646899960172,-0.2722885401250183,0.0010506580217886793]\n",
      "Intercept:  -8.74985105016428\n"
     ]
    }
   ],
   "source": [
    "# Display model coefficients and intercept\n",
    "print(\"Coefficients: \", model.coefficients)\n",
    "print(\"Intercept: \", model.intercept)"
   ]
  },
  {
   "cell_type": "code",
   "execution_count": 45,
   "metadata": {},
   "outputs": [
    {
     "name": "stderr",
     "output_type": "stream",
     "text": [
      "                                                                                \r"
     ]
    },
    {
     "name": "stdout",
     "output_type": "stream",
     "text": [
      "Accuracy:  0.999202063594026\n"
     ]
    },
    {
     "name": "stderr",
     "output_type": "stream",
     "text": [
      "                                                                                \r"
     ]
    },
    {
     "name": "stdout",
     "output_type": "stream",
     "text": [
      "AUC:  0.9808917897987934\n",
      "Precision:  [0.9993568582525638, 0.8713692946058091]\n",
      "Recall:  [0.9998441631561485, 0.621301775147929]\n"
     ]
    }
   ],
   "source": [
    "summary = model.summary\n",
    "print('Accuracy: ', summary.accuracy)\n",
    "print('AUC: ', summary.areaUnderROC)\n",
    "print('Precision: ', summary.precisionByLabel)\n",
    "print('Recall: ', summary.recallByLabel)"
   ]
  },
  {
   "cell_type": "markdown",
   "metadata": {},
   "source": [
    "## Evaluate the model on the test set"
   ]
  },
  {
   "cell_type": "code",
   "execution_count": 46,
   "metadata": {},
   "outputs": [],
   "source": [
    "eval = model.transform(test)"
   ]
  },
  {
   "cell_type": "code",
   "execution_count": null,
   "metadata": {},
   "outputs": [
    {
     "name": "stderr",
     "output_type": "stream",
     "text": [
      "[Stage 695:===>                                                   (1 + 15) / 16]\r"
     ]
    },
    {
     "name": "stdout",
     "output_type": "stream",
     "text": [
      "AUC: 0.9689\n",
      "Accuracy: 0.9991\n",
      "Precision: 0.9991\n",
      "Recall: 0.9991\n"
     ]
    },
    {
     "name": "stderr",
     "output_type": "stream",
     "text": [
      "                                                                                \r"
     ]
    }
   ],
   "source": [
    "binary_evaluator = BinaryClassificationEvaluator(labelCol=\"Class\", rawPredictionCol=\"rawPrediction\")\n",
    "multi_evaluator = MulticlassClassificationEvaluator(labelCol=\"Class\", predictionCol=\"prediction\")\n",
    "\n",
    "metrics = {\n",
    "    \"AUC\": binary_evaluator.evaluate(eval),\n",
    "    \"Accuracy\": multi_evaluator.setMetricName(\"accuracy\").evaluate(eval),\n",
    "    \"Precision\": multi_evaluator.setMetricName(\"weightedPrecision\").evaluate(eval),\n",
    "    \"Recall\": multi_evaluator.setMetricName(\"weightedRecall\").evaluate(eval)\n",
    "}\n",
    "\n",
    "for name, value in metrics.items():\n",
    "    print(f\"{name}: {value:.4f}\")"
   ]
  },
  {
   "cell_type": "code",
   "execution_count": 48,
   "metadata": {},
   "outputs": [
    {
     "name": "stderr",
     "output_type": "stream",
     "text": [
      "[Stage 697:===>                                                   (1 + 15) / 16]\r"
     ]
    },
    {
     "name": "stdout",
     "output_type": "stream",
     "text": [
      "+-----+----------+-----+\n",
      "|Class|prediction|count|\n",
      "+-----+----------+-----+\n",
      "|    0|       0.0|85378|\n",
      "|    0|       1.0|   11|\n",
      "|    1|       0.0|   64|\n",
      "|    1|       1.0|   90|\n",
      "+-----+----------+-----+\n",
      "\n"
     ]
    },
    {
     "name": "stderr",
     "output_type": "stream",
     "text": [
      "                                                                                \r"
     ]
    }
   ],
   "source": [
    "eval.groupby('Class', 'prediction').count().sort('Class', 'prediction').show()"
   ]
  }
 ],
 "metadata": {
  "kernelspec": {
   "display_name": ".venv",
   "language": "python",
   "name": "python3"
  },
  "language_info": {
   "codemirror_mode": {
    "name": "ipython",
    "version": 3
   },
   "file_extension": ".py",
   "mimetype": "text/x-python",
   "name": "python",
   "nbconvert_exporter": "python",
   "pygments_lexer": "ipython3",
   "version": "3.12.9"
  }
 },
 "nbformat": 4,
 "nbformat_minor": 2
}
