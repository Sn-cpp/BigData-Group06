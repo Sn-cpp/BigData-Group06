{
 "cells": [
  {
   "cell_type": "code",
   "execution_count": 1,
   "metadata": {},
   "outputs": [],
   "source": [
    "from pyspark.sql import SparkSession\n",
    "from pyspark.ml.feature import VectorAssembler\n",
    "from pyspark.ml.classification import LogisticRegression\n",
    "from pyspark.ml.evaluation import BinaryClassificationEvaluator, MulticlassClassificationEvaluator"
   ]
  },
  {
   "cell_type": "code",
   "execution_count": null,
   "metadata": {},
   "outputs": [
    {
     "name": "stderr",
     "output_type": "stream",
     "text": [
      "your 131072x1 screen size is bogus. expect trouble\n",
      "25/04/11 14:45:12 WARN Utils: Your hostname, minhnhat resolves to a loopback address: 127.0.1.1; using 10.255.255.254 instead (on interface lo)\n",
      "25/04/11 14:45:12 WARN Utils: Set SPARK_LOCAL_IP if you need to bind to another address\n",
      "Setting default log level to \"WARN\".\n",
      "To adjust logging level use sc.setLogLevel(newLevel). For SparkR, use setLogLevel(newLevel).\n",
      "25/04/11 14:45:13 WARN NativeCodeLoader: Unable to load native-hadoop library for your platform... using builtin-java classes where applicable\n"
     ]
    }
   ],
   "source": [
    "#pyspark init\n",
    "builder = SparkSession.builder\\\n",
    "            .appName('creditcard_highAPI')\\\n",
    "            .config(\"spark.driver.memory\", \"4g\")\\\n",
    "            .config(\"spark.executor.memory\", \"4g\")\n",
    "spark = builder.getOrCreate()"
   ]
  },
  {
   "cell_type": "code",
   "execution_count": 3,
   "metadata": {},
   "outputs": [
    {
     "name": "stderr",
     "output_type": "stream",
     "text": [
      "                                                                                \r"
     ]
    }
   ],
   "source": [
    "#Read input file\n",
    "raw_df = spark.read.csv('creditcard.csv', header=True, inferSchema=True)"
   ]
  },
  {
   "cell_type": "markdown",
   "metadata": {},
   "source": [
    "## Preprocessing"
   ]
  },
  {
   "cell_type": "code",
   "execution_count": 4,
   "metadata": {},
   "outputs": [],
   "source": [
    "#Extract features name\n",
    "cols = [col for col in raw_df.columns if col != 'Class']\n",
    "\n",
    "assembler = VectorAssembler(inputCols=cols, outputCol= 'features')\n",
    "data = assembler.transform(raw_df).select('features', 'Class')"
   ]
  },
  {
   "cell_type": "code",
   "execution_count": 5,
   "metadata": {},
   "outputs": [],
   "source": [
    "#Split data into training and testing sets\n",
    "\n",
    "train_size = 0.8\n",
    "train, test = data.randomSplit([train_size, 1 - train_size], seed=24)"
   ]
  },
  {
   "cell_type": "markdown",
   "metadata": {},
   "source": [
    "## Fit the model"
   ]
  },
  {
   "cell_type": "code",
   "execution_count": 6,
   "metadata": {},
   "outputs": [
    {
     "name": "stderr",
     "output_type": "stream",
     "text": [
      "25/04/11 14:45:28 WARN InstanceBuilder: Failed to load implementation from:dev.ludovic.netlib.blas.JNIBLAS\n",
      "                                                                                \r"
     ]
    }
   ],
   "source": [
    "classifier = LogisticRegression(featuresCol= 'features', labelCol= 'Class')\n",
    "model = classifier.fit(train)"
   ]
  },
  {
   "cell_type": "code",
   "execution_count": 7,
   "metadata": {},
   "outputs": [
    {
     "name": "stdout",
     "output_type": "stream",
     "text": [
      "Coefficients:  [-2.250504196047376e-06,0.0688645266877948,0.07016448431901465,-0.00576464203873841,0.7462871699325018,0.16702718100079336,-0.13202244921429607,-0.05384541515722778,-0.15093111693791111,-0.19636361746967998,-0.8947473003909194,-0.051147766266498085,0.14343834011779408,-0.36193038240685266,-0.4824931278273971,-0.0799749693197667,-0.2655650567516894,-0.04341991301252665,0.08986194477065233,-0.012540904506693915,-0.5037987413317934,0.37225478970799897,0.5428130509594019,-0.06690468366843587,0.2203392157705258,-0.16529865741373223,0.07181658282365695,-0.8698200135552416,-0.293981762874031,0.0009945996705770465]\n",
      "Intercept:  -8.611743647628357\n"
     ]
    }
   ],
   "source": [
    "# Display model coefficients and intercept\n",
    "print(\"Coefficients: \", model.coefficients)\n",
    "print(\"Intercept: \", model.intercept)"
   ]
  },
  {
   "cell_type": "code",
   "execution_count": 8,
   "metadata": {},
   "outputs": [
    {
     "name": "stderr",
     "output_type": "stream",
     "text": [
      "                                                                                \r"
     ]
    },
    {
     "name": "stdout",
     "output_type": "stream",
     "text": [
      "Accuracy:  0.9991968329763702\n"
     ]
    },
    {
     "name": "stderr",
     "output_type": "stream",
     "text": [
      "                                                                                \r"
     ]
    },
    {
     "name": "stdout",
     "output_type": "stream",
     "text": [
      "AUC:  0.9814094322801267\n",
      "Precision:  [0.9993540591013952, 0.8681318681318682]\n",
      "Recall:  [0.9998417331973412, 0.6171875]\n"
     ]
    }
   ],
   "source": [
    "summary = model.summary\n",
    "print('Accuracy: ', summary.accuracy)\n",
    "print('AUC: ', summary.areaUnderROC)\n",
    "print('Precision: ', summary.precisionByLabel)\n",
    "print('Recall: ', summary.recallByLabel)"
   ]
  },
  {
   "cell_type": "markdown",
   "metadata": {},
   "source": [
    "## Evaluate the model on the test set"
   ]
  },
  {
   "cell_type": "code",
   "execution_count": 9,
   "metadata": {},
   "outputs": [],
   "source": [
    "eval = model.transform(test)"
   ]
  },
  {
   "cell_type": "code",
   "execution_count": 10,
   "metadata": {},
   "outputs": [
    {
     "name": "stderr",
     "output_type": "stream",
     "text": [
      "                                                                                \r"
     ]
    },
    {
     "name": "stdout",
     "output_type": "stream",
     "text": [
      "Accuracy: (0.9991572885759933,)\n",
      "AUC: 0.9635123197285692\n",
      "Precision per class: [0.9992265912007171, 0.9411764705882353]\n",
      "Recall per class: [0.9999296406395666, 0.5925925925925926]\n"
     ]
    },
    {
     "name": "stderr",
     "output_type": "stream",
     "text": [
      "                                                                                \r"
     ]
    }
   ],
   "source": [
    "binary_evaluator = BinaryClassificationEvaluator(labelCol=\"Class\", rawPredictionCol=\"rawPrediction\")\n",
    "multi_evaluator = MulticlassClassificationEvaluator(labelCol=\"Class\", predictionCol=\"prediction\")\n",
    "\n",
    "accuracy = multi_evaluator.setMetricName(\"accuracy\").evaluate(eval),\n",
    "auc = binary_evaluator.evaluate(eval)\n",
    "\n",
    "\n",
    "precision_per_class = []\n",
    "recall_per_class = []\n",
    "\n",
    "for label in [0.0, 1.0]: \n",
    "    precision = multi_evaluator.setMetricName(\"precisionByLabel\").setMetricLabel(label).evaluate(eval)\n",
    "    recall = multi_evaluator.setMetricName(\"recallByLabel\").setMetricLabel(label).evaluate(eval)\n",
    "    precision_per_class.append(precision)\n",
    "    recall_per_class.append(recall)\n",
    "\n",
    "print(f\"Accuracy: {accuracy}\")\n",
    "print(f\"AUC: {auc}\")\n",
    "print(f\"Precision per class: {precision_per_class}\")\n",
    "print(f\"Recall per class: {recall_per_class}\")\n"
   ]
  },
  {
   "cell_type": "code",
   "execution_count": 11,
   "metadata": {},
   "outputs": [],
   "source": [
    "#Stop the Spark session\n",
    "spark.stop()"
   ]
  }
 ],
 "metadata": {
  "kernelspec": {
   "display_name": "mrjob_env",
   "language": "python",
   "name": "python3"
  },
  "language_info": {
   "codemirror_mode": {
    "name": "ipython",
    "version": 3
   },
   "file_extension": ".py",
   "mimetype": "text/x-python",
   "name": "python",
   "nbconvert_exporter": "python",
   "pygments_lexer": "ipython3",
   "version": "3.11.11"
  }
 },
 "nbformat": 4,
 "nbformat_minor": 2
}
