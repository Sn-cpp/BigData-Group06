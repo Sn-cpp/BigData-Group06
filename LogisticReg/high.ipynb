{
 "cells": [
  {
   "cell_type": "code",
   "execution_count": null,
   "metadata": {},
   "outputs": [],
   "source": [
    "from pyspark.sql import SparkSession\n",
    "from pyspark.ml.feature import VectorAssembler\n",
    "from pyspark.ml.classification import LogisticRegression\n",
    "from pyspark.ml.evaluation import BinaryClassificationEvaluator"
   ]
  },
  {
   "cell_type": "code",
   "execution_count": 25,
   "metadata": {},
   "outputs": [],
   "source": [
    "#pyspark init\n",
    "builder = SparkSession.Builder().appName('creditcard_highAPI')\n",
    "spark = builder.getOrCreate()"
   ]
  },
  {
   "cell_type": "code",
   "execution_count": 26,
   "metadata": {},
   "outputs": [
    {
     "name": "stderr",
     "output_type": "stream",
     "text": [
      "                                                                                \r"
     ]
    }
   ],
   "source": [
    "#Read input file\n",
    "raw_df = spark.read.csv('creditcard.csv', header=True, inferSchema=True)"
   ]
  },
  {
   "cell_type": "markdown",
   "metadata": {},
   "source": [
    "## Preprocessing"
   ]
  },
  {
   "cell_type": "code",
   "execution_count": 27,
   "metadata": {},
   "outputs": [],
   "source": [
    "#Extract features name\n",
    "cols = [col for col in raw_df.columns if col != 'Class']\n",
    "\n",
    "#Use VectorAssembler to transform feature columns into a single vector\n",
    "assembler = VectorAssembler(inputCols=cols, outputCol= 'features')\n",
    "data = assembler.transform(raw_df).select('features', 'Class')"
   ]
  },
  {
   "cell_type": "code",
   "execution_count": 28,
   "metadata": {},
   "outputs": [],
   "source": [
    "#Split data into training and testing sets\n",
    "\n",
    "###training set proportion parameter:\n",
    "train_size = 0.7\n",
    "###\n",
    "\n",
    "train, test = data.randomSplit([train_size, 1 - train_size], seed=24) #Fixed with seed for reproductivity"
   ]
  },
  {
   "cell_type": "markdown",
   "metadata": {},
   "source": [
    "## Fit the model"
   ]
  },
  {
   "cell_type": "code",
   "execution_count": 29,
   "metadata": {},
   "outputs": [
    {
     "name": "stderr",
     "output_type": "stream",
     "text": [
      "                                                                                \r"
     ]
    }
   ],
   "source": [
    "classifier = LogisticRegression(featuresCol= 'features', labelCol= 'Class')\n",
    "model = classifier.fit(train)"
   ]
  },
  {
   "cell_type": "code",
   "execution_count": 30,
   "metadata": {},
   "outputs": [
    {
     "name": "stdout",
     "output_type": "stream",
     "text": [
      "Coefficients:  [-1.420584255290576e-06,0.0644867110201878,0.07343322668777727,-0.01857798062830314,0.7664195873036443,0.1896850165855631,-0.14423536452753677,-0.05080773689777933,-0.15310718726690467,-0.21451234040733136,-0.896515711851349,-0.09796312071671975,0.1438949340007252,-0.4360623289609669,-0.48192431683149745,-0.05062499343587694,-0.23137287549281907,-0.011095142200480482,-0.02333055472087488,0.015229224764392445,-0.503946747224968,0.39978534555112405,0.6247652360668583,-0.07474196829786554,0.18621389095128627,-0.09849214283246698,-0.044537513638330084,-0.8664689996020296,-0.2722885401249795,0.0010506580217897828]\n",
      "Intercept:  -8.749851050164766\n"
     ]
    }
   ],
   "source": [
    "# Display model coefficients and intercept\n",
    "print(\"Coefficients: \", model.coefficients)\n",
    "print(\"Intercept: \", model.intercept)"
   ]
  },
  {
   "cell_type": "code",
   "execution_count": 31,
   "metadata": {},
   "outputs": [
    {
     "name": "stderr",
     "output_type": "stream",
     "text": [
      "                                                                                \r"
     ]
    },
    {
     "name": "stdout",
     "output_type": "stream",
     "text": [
      "Accuracy:  0.999202063594026\n"
     ]
    },
    {
     "name": "stderr",
     "output_type": "stream",
     "text": [
      "                                                                                \r"
     ]
    },
    {
     "name": "stdout",
     "output_type": "stream",
     "text": [
      "AUC:  0.9808942884235088\n",
      "Precision:  [0.9993568582525638, 0.8713692946058091]\n",
      "Recall:  [0.9998441631561485, 0.621301775147929]\n"
     ]
    }
   ],
   "source": [
    "summary = model.summary\n",
    "print('Accuracy: ', summary.accuracy)\n",
    "print('AUC: ', summary.areaUnderROC)\n",
    "print('Precision: ', summary.precisionByLabel)\n",
    "print('Recall: ', summary.recallByLabel)"
   ]
  },
  {
   "cell_type": "markdown",
   "metadata": {},
   "source": [
    "## Evaluate the model on the test set"
   ]
  },
  {
   "cell_type": "code",
   "execution_count": 32,
   "metadata": {},
   "outputs": [],
   "source": [
    "eval = model.transform(test)"
   ]
  },
  {
   "cell_type": "code",
   "execution_count": null,
   "metadata": {},
   "outputs": [
    {
     "name": "stderr",
     "output_type": "stream",
     "text": [
      "[Stage 520:===>                                                   (1 + 15) / 16]\r"
     ]
    },
    {
     "name": "stdout",
     "output_type": "stream",
     "text": [
      "Accuracy: 0.9991\n",
      "Precision: 0.9991\n",
      "Recall: 0.9991\n"
     ]
    },
    {
     "name": "stderr",
     "output_type": "stream",
     "text": [
      "                                                                                \r"
     ]
    }
   ],
   "source": [
    "evaluator = MulticlassClassificationEvaluator(labelCol=\"Class\", predictionCol=\"prediction\")\n",
    "\n",
    "# Calculate metrics\n",
    "accuracy = evaluator.setMetricName(\"accuracy\").evaluate(eval)\n",
    "precision = evaluator.setMetricName(\"weightedPrecision\").evaluate(eval)\n",
    "recall = evaluator.setMetricName(\"weightedRecall\").evaluate(eval)\n",
    "\n",
    "# Print the metrics\n",
    "print(f\"Accuracy: {accuracy:.4f}\")\n",
    "print(f\"Precision: {precision:.4f}\")\n",
    "print(f\"Recall: {recall:.4f}\")"
   ]
  },
  {
   "cell_type": "code",
   "execution_count": 34,
   "metadata": {},
   "outputs": [
    {
     "name": "stderr",
     "output_type": "stream",
     "text": [
      "[Stage 522:===>                                                   (1 + 15) / 16]\r"
     ]
    },
    {
     "name": "stdout",
     "output_type": "stream",
     "text": [
      "+-----+----------+-----+\n",
      "|Class|prediction|count|\n",
      "+-----+----------+-----+\n",
      "|    0|       0.0|85378|\n",
      "|    0|       1.0|   11|\n",
      "|    1|       0.0|   64|\n",
      "|    1|       1.0|   90|\n",
      "+-----+----------+-----+\n",
      "\n"
     ]
    },
    {
     "name": "stderr",
     "output_type": "stream",
     "text": [
      "                                                                                \r"
     ]
    }
   ],
   "source": [
    "eval.groupby('Class', 'prediction').count().sort('Class', 'prediction').show()"
   ]
  }
 ],
 "metadata": {
  "kernelspec": {
   "display_name": "mrjob_env",
   "language": "python",
   "name": "python3"
  },
  "language_info": {
   "codemirror_mode": {
    "name": "ipython",
    "version": 3
   },
   "file_extension": ".py",
   "mimetype": "text/x-python",
   "name": "python",
   "nbconvert_exporter": "python",
   "pygments_lexer": "ipython3",
   "version": "3.11.11"
  }
 },
 "nbformat": 4,
 "nbformat_minor": 2
}
