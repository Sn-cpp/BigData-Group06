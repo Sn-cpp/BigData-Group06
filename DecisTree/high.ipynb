{
 "cells": [
  {
   "cell_type": "code",
   "execution_count": 1,
   "metadata": {},
   "outputs": [],
   "source": [
    "from pyspark.sql import SparkSession, DataFrame\n",
    "from pyspark.ml.regression import DecisionTreeRegressor\n",
    "from pyspark.ml.feature import VectorAssembler\n",
    "\n",
    "from datetime import datetime"
   ]
  },
  {
   "cell_type": "code",
   "execution_count": null,
   "metadata": {},
   "outputs": [
    {
     "name": "stderr",
     "output_type": "stream",
     "text": [
      "your 131072x1 screen size is bogus. expect trouble\n",
      "25/03/28 21:59:53 WARN Utils: Your hostname, DESKTOP-0H87CFM resolves to a loopback address: 127.0.1.1; using 10.255.255.254 instead (on interface lo)\n",
      "25/03/28 21:59:53 WARN Utils: Set SPARK_LOCAL_IP if you need to bind to another address\n",
      "Setting default log level to \"WARN\".\n",
      "To adjust logging level use sc.setLogLevel(newLevel). For SparkR, use setLogLevel(newLevel).\n",
      "25/03/28 21:59:53 WARN NativeCodeLoader: Unable to load native-hadoop library for your platform... using builtin-java classes where applicable\n"
     ]
    }
   ],
   "source": [
    "#pyspark init\n",
    "builder = SparkSession.Builder().appName('taxi_duration_highAPI')\n",
    "spark = builder.getOrCreate()"
   ]
  },
  {
   "cell_type": "code",
   "execution_count": 3,
   "metadata": {},
   "outputs": [
    {
     "name": "stderr",
     "output_type": "stream",
     "text": [
      "                                                                                \r"
     ]
    }
   ],
   "source": [
    "#Read input file (train.csv only, since the test.csv does not have label for each data point)\n",
    "raw_data = spark.read.csv('train.csv', header=True, inferSchema=True)"
   ]
  },
  {
   "cell_type": "code",
   "execution_count": 4,
   "metadata": {},
   "outputs": [],
   "source": [
    "#Cast the pickup and dropoff string values into timestamps.\n",
    "casted_data = raw_data.withColumns({\n",
    "                        'pickup_datetime' : raw_data['pickup_datetime'].cast('timestamp'),\n",
    "                        'dropoff_datetime' : raw_data['dropoff_datetime'].cast('timestamp')\n",
    "                    })"
   ]
  },
  {
   "cell_type": "code",
   "execution_count": 5,
   "metadata": {},
   "outputs": [],
   "source": [
    "#Get usable columns from the dataframe\n",
    "#Also convert pickup and dropoff timestamps into time elements and encode `store_and_fwd_flag` feature into binary values\n",
    "extracted_df = casted_data.selectExpr(\n",
    "                'YEAR(pickup_datetime)    AS pickup_year',\n",
    "                'MONTH(pickup_datetime)   AS pickup_month',\n",
    "                'DAY(pickup_datetime)     AS pickup_day',\n",
    "                'HOUR(pickup_datetime)    AS pickup_hour',\n",
    "                'MINUTE(pickup_datetime)  AS pickup_min',\n",
    "                'SECOND(pickup_datetime)  AS pickup_sec',\n",
    "                'YEAR(dropoff_datetime)   AS dropoff_year',\n",
    "                'MONTH(dropoff_datetime)  AS dropoff_month',\n",
    "                'DAY(dropoff_datetime)    AS dropoff_day',\n",
    "                'HOUR(dropoff_datetime)   AS dropoff_hour',\n",
    "                'MINUTE(dropoff_datetime) AS dropoff_min',\n",
    "                'SECOND(dropoff_datetime) AS dropoff_sec',\n",
    "                'passenger_count', 'pickup_longitude', 'pickup_latitude', 'dropoff_longitude', 'dropoff_latitude',\n",
    "                'CASE WHEN store_and_fwd_flag == \"Y\" THEN 1 ELSE 0 END AS store_and_fwd_flag',\n",
    "                'trip_duration'\n",
    "            )"
   ]
  },
  {
   "cell_type": "code",
   "execution_count": 6,
   "metadata": {},
   "outputs": [],
   "source": [
    "#Extract features name\n",
    "cols = [col for col in extracted_df.columns if col != 'trip_duration']\n",
    "\n",
    "#Use VectorAssembler to transform feature columns into a single vector\n",
    "assember = VectorAssembler(inputCols=cols, outputCol='features')\n",
    "data = assember.transform(extracted_df).select('features', 'trip_duration')"
   ]
  },
  {
   "cell_type": "code",
   "execution_count": 7,
   "metadata": {},
   "outputs": [],
   "source": [
    "#Split data into training and testing sets\n",
    "\n",
    "###training set proportion parameter:\n",
    "train_size = 0.8\n",
    "###\n",
    "\n",
    "train, test = data.randomSplit([train_size, 1 - train_size], seed=24) #Fixed with seed for reproductivity"
   ]
  },
  {
   "cell_type": "code",
   "execution_count": null,
   "metadata": {},
   "outputs": [
    {
     "name": "stderr",
     "output_type": "stream",
     "text": [
      "25/03/28 22:02:19 WARN MemoryStore: Not enough space to cache rdd_25_0 in memory! (computed 18.5 MiB so far)\n",
      "25/03/28 22:02:19 WARN BlockManager: Persisting block rdd_25_0 to disk instead.\n",
      "25/03/28 22:02:19 WARN MemoryStore: Not enough space to cache rdd_25_1 in memory! (computed 18.5 MiB so far)\n",
      "25/03/28 22:02:19 WARN BlockManager: Persisting block rdd_25_1 to disk instead.\n",
      "                                                                                \r"
     ]
    }
   ],
   "source": [
    "estimator = DecisionTreeRegressor(featuresCol='features', labelCol='trip_duration')\n",
    "model = estimator.fit(train)"
   ]
  },
  {
   "cell_type": "code",
   "execution_count": 17,
   "metadata": {},
   "outputs": [
    {
     "name": "stderr",
     "output_type": "stream",
     "text": [
      "25/03/28 22:06:13 WARN SparkStringUtils: Truncated the string representation of a plan since it was too large. This behavior can be adjusted by setting 'spark.sql.debug.maxToStringFields'.\n",
      "[Stage 16:>                                                         (0 + 1) / 1]\r"
     ]
    },
    {
     "name": "stdout",
     "output_type": "stream",
     "text": [
      "+--------------------+-------------+\n",
      "|            features|trip_duration|\n",
      "+--------------------+-------------+\n",
      "|[2016.0,1.0,1.0,0...|          849|\n",
      "+--------------------+-------------+\n",
      "only showing top 1 row\n",
      "\n"
     ]
    },
    {
     "name": "stderr",
     "output_type": "stream",
     "text": [
      "                                                                                \r"
     ]
    }
   ],
   "source": [
    "train.show(1)"
   ]
  },
  {
   "cell_type": "code",
   "execution_count": 16,
   "metadata": {},
   "outputs": [
    {
     "data": {
      "text/plain": [
       "SparseVector(18, {2: 0.9798, 3: 0.0033, 7: 0.0011, 8: 0.0005, 13: 0.0069, 14: 0.0014, 15: 0.0051, 16: 0.0019})"
      ]
     },
     "execution_count": 16,
     "metadata": {},
     "output_type": "execute_result"
    }
   ],
   "source": [
    "model.featureImportances"
   ]
  }
 ],
 "metadata": {
  "kernelspec": {
   "display_name": "Python 3",
   "language": "python",
   "name": "python3"
  },
  "language_info": {
   "codemirror_mode": {
    "name": "ipython",
    "version": 3
   },
   "file_extension": ".py",
   "mimetype": "text/x-python",
   "name": "python",
   "nbconvert_exporter": "python",
   "pygments_lexer": "ipython3",
   "version": "3.11.11"
  }
 },
 "nbformat": 4,
 "nbformat_minor": 2
}
