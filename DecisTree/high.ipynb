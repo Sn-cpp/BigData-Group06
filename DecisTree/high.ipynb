{
 "cells": [
  {
   "cell_type": "code",
   "execution_count": 1,
   "metadata": {},
   "outputs": [],
   "source": [
    "from pyspark.sql import SparkSession, DataFrame\n",
    "from pyspark.ml.regression import DecisionTreeRegressor\n",
    "from pyspark.ml.feature import VectorAssembler\n",
    "\n",
    "from datetime import datetime"
   ]
  },
  {
   "cell_type": "code",
   "execution_count": 2,
   "metadata": {},
   "outputs": [
    {
     "name": "stderr",
     "output_type": "stream",
     "text": [
      "your 131072x1 screen size is bogus. expect trouble\n",
      "25/04/01 22:10:21 WARN Utils: Your hostname, DESKTOP-0H87CFM resolves to a loopback address: 127.0.1.1; using 10.255.255.254 instead (on interface lo)\n",
      "25/04/01 22:10:21 WARN Utils: Set SPARK_LOCAL_IP if you need to bind to another address\n",
      "Setting default log level to \"WARN\".\n",
      "To adjust logging level use sc.setLogLevel(newLevel). For SparkR, use setLogLevel(newLevel).\n",
      "25/04/01 22:10:21 WARN NativeCodeLoader: Unable to load native-hadoop library for your platform... using builtin-java classes where applicable\n"
     ]
    }
   ],
   "source": [
    "#pyspark init\n",
    "builder = SparkSession.Builder().appName('taxi_duration_highAPI')\n",
    "spark = builder.getOrCreate()"
   ]
  },
  {
   "cell_type": "code",
   "execution_count": 3,
   "metadata": {},
   "outputs": [
    {
     "name": "stderr",
     "output_type": "stream",
     "text": [
      "                                                                                \r"
     ]
    }
   ],
   "source": [
    "#Read input file (train.csv only, since the test.csv does not have label for each data point)\n",
    "raw_data = spark.read.csv('train.csv', header=True, inferSchema=True)"
   ]
  },
  {
   "cell_type": "code",
   "execution_count": 4,
   "metadata": {},
   "outputs": [],
   "source": [
    "#Cast the pickup and dropoff string values into timestamps.\n",
    "casted_data = raw_data.withColumns({\n",
    "                        'pickup_datetime' : raw_data['pickup_datetime'].cast('timestamp'),\n",
    "                        'dropoff_datetime' : raw_data['dropoff_datetime'].cast('timestamp')\n",
    "                    })"
   ]
  },
  {
   "cell_type": "code",
   "execution_count": 13,
   "metadata": {},
   "outputs": [],
   "source": [
    "#Get usable columns from the dataframe\n",
    "#Also convert pickup and dropoff timestamps into time elements and encode `store_and_fwd_flag` feature into binary values\n",
    "extracted_df = casted_data.selectExpr(\n",
    "                'vendor_id',\n",
    "                'YEAR(pickup_datetime)    AS pickup_year',\n",
    "                'MONTH(pickup_datetime)   AS pickup_month',\n",
    "                'DAY(pickup_datetime)     AS pickup_day',\n",
    "                'HOUR(pickup_datetime)    AS pickup_hour',\n",
    "                'MINUTE(pickup_datetime)  AS pickup_min',\n",
    "                'SECOND(pickup_datetime)  AS pickup_sec',\n",
    "                'YEAR(dropoff_datetime)   AS dropoff_year',\n",
    "                'MONTH(dropoff_datetime)  AS dropoff_month',\n",
    "                'DAY(dropoff_datetime)    AS dropoff_day',\n",
    "                'HOUR(dropoff_datetime)   AS dropoff_hour',\n",
    "                'MINUTE(dropoff_datetime) AS dropoff_min',\n",
    "                'SECOND(dropoff_datetime) AS dropoff_sec',\n",
    "                'passenger_count', 'pickup_longitude', 'pickup_latitude', 'dropoff_longitude', 'dropoff_latitude',\n",
    "                'CASE WHEN store_and_fwd_flag == \"Y\" THEN 1 ELSE 0 END AS store_and_fwd_flag',\n",
    "                'trip_duration'\n",
    "            )"
   ]
  },
  {
   "cell_type": "code",
   "execution_count": 14,
   "metadata": {},
   "outputs": [],
   "source": [
    "#Extract features name\n",
    "cols = [col for col in extracted_df.columns if col != 'trip_duration']\n",
    "\n",
    "#Use VectorAssembler to transform feature columns into a single vector\n",
    "assember = VectorAssembler(inputCols=cols, outputCol='features')\n",
    "data = assember.transform(extracted_df).select('features', 'trip_duration')"
   ]
  },
  {
   "cell_type": "code",
   "execution_count": 15,
   "metadata": {},
   "outputs": [],
   "source": [
    "#Split data into training and testing sets\n",
    "\n",
    "###training set proportion parameter:\n",
    "train_size = 0.8\n",
    "###\n",
    "\n",
    "train, test = data.randomSplit([train_size, 1 - train_size], seed=24) #Fixed with seed for reproductivity"
   ]
  },
  {
   "cell_type": "code",
   "execution_count": 16,
   "metadata": {},
   "outputs": [
    {
     "name": "stderr",
     "output_type": "stream",
     "text": [
      "25/04/01 22:12:12 WARN MemoryStore: Not enough space to cache rdd_60_5 in memory! (computed 5.7 MiB so far)\n",
      "25/04/01 22:12:12 WARN BlockManager: Persisting block rdd_60_5 to disk instead.\n",
      "25/04/01 22:12:12 WARN MemoryStore: Not enough space to cache rdd_60_1 in memory! (computed 13.0 MiB so far)\n",
      "25/04/01 22:12:12 WARN BlockManager: Persisting block rdd_60_1 to disk instead.\n",
      "25/04/01 22:12:12 WARN MemoryStore: Not enough space to cache rdd_60_0 in memory! (computed 8.7 MiB so far)\n",
      "25/04/01 22:12:12 WARN BlockManager: Persisting block rdd_60_0 to disk instead.\n",
      "25/04/01 22:12:12 WARN MemoryStore: Not enough space to cache rdd_60_3 in memory! (computed 8.7 MiB so far)\n",
      "25/04/01 22:12:12 WARN BlockManager: Persisting block rdd_60_3 to disk instead.\n",
      "25/04/01 22:12:12 WARN MemoryStore: Not enough space to cache rdd_60_4 in memory! (computed 13.0 MiB so far)\n",
      "25/04/01 22:12:12 WARN BlockManager: Persisting block rdd_60_4 to disk instead.\n",
      "25/04/01 22:12:12 WARN MemoryStore: Not enough space to cache rdd_60_2 in memory! (computed 13.0 MiB so far)\n",
      "25/04/01 22:12:12 WARN BlockManager: Persisting block rdd_60_2 to disk instead.\n",
      "                                                                                \r"
     ]
    }
   ],
   "source": [
    "estimator = DecisionTreeRegressor(featuresCol='features', labelCol='trip_duration')\n",
    "model = estimator.fit(train)"
   ]
  },
  {
   "cell_type": "code",
   "execution_count": 17,
   "metadata": {},
   "outputs": [
    {
     "name": "stdout",
     "output_type": "stream",
     "text": [
      "DecisionTreeRegressionModel: uid=DecisionTreeRegressor_6dbeb84112cc, depth=5, numNodes=63, numFeatures=19\n",
      "  If (feature 14 <= -73.87445068359375)\n",
      "   If (feature 16 <= -73.91570663452148)\n",
      "    If (feature 17 <= 40.70650291442871)\n",
      "     If (feature 15 <= 40.72732925415039)\n",
      "      If (feature 15 <= 40.6978645324707)\n",
      "       Predict: 704.3571428571429\n",
      "      Else (feature 15 > 40.6978645324707)\n",
      "       Predict: 1092.5150882633588\n",
      "     Else (feature 15 > 40.72732925415039)\n",
      "      If (feature 17 <= 40.686012268066406)\n",
      "       Predict: 2021.467626594511\n",
      "      Else (feature 17 > 40.686012268066406)\n",
      "       Predict: 1548.8900373241459\n",
      "    Else (feature 17 > 40.70650291442871)\n",
      "     If (feature 0 <= 1.5)\n",
      "      If (feature 15 <= 40.71365928649902)\n",
      "       Predict: 1013.0823034446489\n",
      "      Else (feature 15 > 40.71365928649902)\n",
      "       Predict: 705.405931345331\n",
      "     Else (feature 0 > 1.5)\n",
      "      If (feature 15 <= 40.72732925415039)\n",
      "       Predict: 1101.0949064323966\n",
      "      Else (feature 15 > 40.72732925415039)\n",
      "       Predict: 890.9904478402077\n",
      "   Else (feature 16 > -73.91570663452148)\n",
      "    If (feature 16 <= -73.81587600708008)\n",
      "     If (feature 14 <= -73.95535659790039)\n",
      "      If (feature 10 <= 12.5)\n",
      "       Predict: 1719.3139703746733\n",
      "      Else (feature 10 > 12.5)\n",
      "       Predict: 2161.4504756086917\n",
      "     Else (feature 14 > -73.95535659790039)\n",
      "      If (feature 14 <= -73.94685363769531)\n",
      "       Predict: 1417.2708779443255\n",
      "      Else (feature 14 > -73.94685363769531)\n",
      "       Predict: 866.2964244521338\n",
      "    Else (feature 16 > -73.81587600708008)\n",
      "     If (feature 4 <= 12.5)\n",
      "      If (feature 10 <= 0.5)\n",
      "       Predict: 6080.345454545454\n",
      "      Else (feature 10 > 0.5)\n",
      "       Predict: 2254.3514298480786\n",
      "     Else (feature 4 > 12.5)\n",
      "      If (feature 4 <= 18.5)\n",
      "       Predict: 3702.4188749418877\n",
      "      Else (feature 4 > 18.5)\n",
      "       Predict: 2513.663224781573\n",
      "  Else (feature 14 > -73.87445068359375)\n",
      "   If (feature 16 <= -73.95559310913086)\n",
      "    If (feature 15 <= 40.6978645324707)\n",
      "     If (feature 9 <= 24.5)\n",
      "      If (feature 4 <= 18.5)\n",
      "       Predict: 3337.3553444724193\n",
      "      Else (feature 4 > 18.5)\n",
      "       Predict: 2512.0056166056165\n",
      "     Else (feature 9 > 24.5)\n",
      "      If (feature 3 <= 13.5)\n",
      "       Predict: 2733009.0\n",
      "      Else (feature 3 > 13.5)\n",
      "       Predict: 3223.9884066587397\n",
      "    Else (feature 15 > 40.6978645324707)\n",
      "     If (feature 4 <= 18.5)\n",
      "      If (feature 4 <= 6.5)\n",
      "       Predict: 1441.7838577291382\n",
      "      Else (feature 4 > 6.5)\n",
      "       Predict: 2481.4043685899946\n",
      "     Else (feature 4 > 18.5)\n",
      "      If (feature 13 <= 4.5)\n",
      "       Predict: 1645.073330760324\n",
      "      Else (feature 13 > 4.5)\n",
      "       Predict: 2427.139037433155\n",
      "   Else (feature 16 > -73.95559310913086)\n",
      "    If (feature 16 <= -73.91570663452148)\n",
      "     If (feature 15 <= 40.71365928649902)\n",
      "      If (feature 4 <= 18.5)\n",
      "       Predict: 2561.6820257368204\n",
      "      Else (feature 4 > 18.5)\n",
      "       Predict: 2058.7992537313435\n",
      "     Else (feature 15 > 40.71365928649902)\n",
      "      If (feature 17 <= 40.686012268066406)\n",
      "       Predict: 2282.235632183908\n",
      "      Else (feature 17 > 40.686012268066406)\n",
      "       Predict: 1344.3475479744136\n",
      "    Else (feature 16 > -73.91570663452148)\n",
      "     If (feature 17 <= 40.80038070678711)\n",
      "      If (feature 12 <= 2.5)\n",
      "       Predict: 1871.391129032258\n",
      "      Else (feature 12 > 2.5)\n",
      "       Predict: 1140.9790790466948\n",
      "     Else (feature 17 > 40.80038070678711)\n",
      "      If (feature 15 <= 40.742530822753906)\n",
      "       Predict: 2716.304854368932\n",
      "      Else (feature 15 > 40.742530822753906)\n",
      "       Predict: 1470.6262626262626\n",
      "\n"
     ]
    }
   ],
   "source": [
    "print(model.toDebugString)"
   ]
  },
  {
   "cell_type": "code",
   "execution_count": 18,
   "metadata": {},
   "outputs": [
    {
     "name": "stdout",
     "output_type": "stream",
     "text": [
      "+--------------------+-------------+\n",
      "|            features|trip_duration|\n",
      "+--------------------+-------------+\n",
      "|[1.0,2016.0,1.0,1...|           87|\n",
      "+--------------------+-------------+\n",
      "only showing top 1 row\n",
      "\n"
     ]
    },
    {
     "name": "stderr",
     "output_type": "stream",
     "text": [
      "                                                                                \r"
     ]
    }
   ],
   "source": [
    "train.show(1)"
   ]
  },
  {
   "cell_type": "code",
   "execution_count": 19,
   "metadata": {},
   "outputs": [
    {
     "data": {
      "text/plain": [
       "SparseVector(19, {0: 0.0007, 3: 0.9818, 4: 0.0006, 9: 0.0006, 10: 0.0001, 12: 0.0, 13: 0.0, 14: 0.0075, 15: 0.0018, 16: 0.0057, 17: 0.0011})"
      ]
     },
     "execution_count": 19,
     "metadata": {},
     "output_type": "execute_result"
    }
   ],
   "source": [
    "model.featureImportances"
   ]
  }
 ],
 "metadata": {
  "kernelspec": {
   "display_name": "mrjob_env",
   "language": "python",
   "name": "python3"
  },
  "language_info": {
   "codemirror_mode": {
    "name": "ipython",
    "version": 3
   },
   "file_extension": ".py",
   "mimetype": "text/x-python",
   "name": "python",
   "nbconvert_exporter": "python",
   "pygments_lexer": "ipython3",
   "version": "3.11.11"
  }
 },
 "nbformat": 4,
 "nbformat_minor": 2
}
