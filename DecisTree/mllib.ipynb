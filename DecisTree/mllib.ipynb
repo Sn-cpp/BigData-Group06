{
 "cells": [
  {
   "cell_type": "code",
   "execution_count": 2,
   "metadata": {},
   "outputs": [],
   "source": [
    "from pyspark.sql import SparkSession\n",
    "\n",
    "from pyspark.mllib.feature import LabeledPoint\n",
    "\n",
    "from pyspark.mllib.tree import DecisionTree"
   ]
  },
  {
   "cell_type": "code",
   "execution_count": null,
   "metadata": {},
   "outputs": [],
   "source": [
    "#pyspark init\n",
    "builder = SparkSession.Builder().appName('taxi_duration_mllib')\n",
    "spark = builder.getOrCreate()"
   ]
  },
  {
   "cell_type": "code",
   "execution_count": 5,
   "metadata": {},
   "outputs": [
    {
     "name": "stderr",
     "output_type": "stream",
     "text": [
      "                                                                                \r"
     ]
    }
   ],
   "source": [
    "#Read input file\n",
    "raw_data = spark.read.csv('train.csv', header=True, inferSchema=True)"
   ]
  },
  {
   "cell_type": "code",
   "execution_count": 6,
   "metadata": {},
   "outputs": [],
   "source": [
    "#Cast the pickup and dropoff string values into timestamps.\n",
    "casted_data = raw_data.withColumns({\n",
    "                        'pickup_datetime' : raw_data['pickup_datetime'].cast('timestamp'),\n",
    "                        'dropoff_datetime' : raw_data['dropoff_datetime'].cast('timestamp')\n",
    "                    })"
   ]
  },
  {
   "cell_type": "code",
   "execution_count": 7,
   "metadata": {},
   "outputs": [],
   "source": [
    "#Get usable columns from the dataframe\n",
    "#Also convert pickup and dropoff timestamps into time elements and encode `store_and_fwd_flag` feature into binary values\n",
    "extracted_df = casted_data.selectExpr(\n",
    "                'YEAR(pickup_datetime)    AS pickup_year',\n",
    "                'MONTH(pickup_datetime)   AS pickup_month',\n",
    "                'DAY(pickup_datetime)     AS pickup_day',\n",
    "                'HOUR(pickup_datetime)    AS pickup_hour',\n",
    "                'MINUTE(pickup_datetime)  AS pickup_min',\n",
    "                'SECOND(pickup_datetime)  AS pickup_sec',\n",
    "                'YEAR(dropoff_datetime)   AS dropoff_year',\n",
    "                'MONTH(dropoff_datetime)  AS dropoff_month',\n",
    "                'DAY(dropoff_datetime)    AS dropoff_day',\n",
    "                'HOUR(dropoff_datetime)   AS dropoff_hour',\n",
    "                'MINUTE(dropoff_datetime) AS dropoff_min',\n",
    "                'SECOND(dropoff_datetime) AS dropoff_sec',\n",
    "                'passenger_count', 'pickup_longitude', 'pickup_latitude', 'dropoff_longitude', 'dropoff_latitude',\n",
    "                'CASE WHEN store_and_fwd_flag == \"Y\" THEN 1 ELSE 0 END AS store_and_fwd_flag',\n",
    "                'trip_duration'\n",
    "            )"
   ]
  },
  {
   "cell_type": "code",
   "execution_count": 8,
   "metadata": {},
   "outputs": [],
   "source": [
    "#Convert to rdd\n",
    "data = extracted_df.rdd.map(lambda row: LabeledPoint(label= row[-1], features= row[:-1]) )"
   ]
  },
  {
   "cell_type": "code",
   "execution_count": 11,
   "metadata": {},
   "outputs": [],
   "source": [
    "#Split data into training and testing sets\n",
    "\n",
    "###training set proportion parameter:\n",
    "train_size = 0.8\n",
    "###\n",
    "\n",
    "train, test = data.randomSplit([train_size, 1 - train_size], seed=24) #Fixed with seed for reproductivity"
   ]
  },
  {
   "cell_type": "code",
   "execution_count": 15,
   "metadata": {},
   "outputs": [
    {
     "name": "stderr",
     "output_type": "stream",
     "text": [
      "                                                                                \r"
     ]
    }
   ],
   "source": [
    "model = DecisionTree.trainRegressor(train, categoricalFeaturesInfo={})"
   ]
  },
  {
   "cell_type": "code",
   "execution_count": 16,
   "metadata": {},
   "outputs": [],
   "source": [
    "predictions = model.predict(test.map(lambda row: row.features))"
   ]
  },
  {
   "cell_type": "code",
   "execution_count": 17,
   "metadata": {},
   "outputs": [],
   "source": [
    "label_pred = test.map(lambda row: row.label).zip(predictions)"
   ]
  },
  {
   "cell_type": "code",
   "execution_count": 18,
   "metadata": {},
   "outputs": [
    {
     "name": "stderr",
     "output_type": "stream",
     "text": [
      "                                                                                \r"
     ]
    },
    {
     "data": {
      "text/plain": [
       "(663.0, 805.3417864433612)"
      ]
     },
     "execution_count": 18,
     "metadata": {},
     "output_type": "execute_result"
    }
   ],
   "source": [
    "label_pred.first()"
   ]
  }
 ],
 "metadata": {
  "kernelspec": {
   "display_name": "mrjob_env",
   "language": "python",
   "name": "python3"
  },
  "language_info": {
   "codemirror_mode": {
    "name": "ipython",
    "version": 3
   },
   "file_extension": ".py",
   "mimetype": "text/x-python",
   "name": "python",
   "nbconvert_exporter": "python",
   "pygments_lexer": "ipython3",
   "version": "3.11.11"
  }
 },
 "nbformat": 4,
 "nbformat_minor": 2
}
